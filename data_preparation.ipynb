{
 "cells": [
  {
   "cell_type": "code",
   "execution_count": 4,
   "metadata": {},
   "outputs": [],
   "source": [
    "import re\n",
    "import numpy as np\n",
    "import pandas as pd\n",
    "from sklearn.model_selection import train_test_split"
   ]
  },
  {
   "cell_type": "markdown",
   "metadata": {},
   "source": [
    "### Data preparation for model training"
   ]
  },
  {
   "cell_type": "code",
   "execution_count": 62,
   "metadata": {},
   "outputs": [
    {
     "data": {
      "text/html": [
       "<div>\n",
       "<style scoped>\n",
       "    .dataframe tbody tr th:only-of-type {\n",
       "        vertical-align: middle;\n",
       "    }\n",
       "\n",
       "    .dataframe tbody tr th {\n",
       "        vertical-align: top;\n",
       "    }\n",
       "\n",
       "    .dataframe thead th {\n",
       "        text-align: right;\n",
       "    }\n",
       "</style>\n",
       "<table border=\"1\" class=\"dataframe\">\n",
       "  <thead>\n",
       "    <tr style=\"text-align: right;\">\n",
       "      <th></th>\n",
       "      <th>Sentence #</th>\n",
       "      <th>Word</th>\n",
       "      <th>Tag;</th>\n",
       "    </tr>\n",
       "  </thead>\n",
       "  <tbody>\n",
       "    <tr>\n",
       "      <th>0</th>\n",
       "      <td>112</td>\n",
       "      <td>Gebäudevermessung</td>\n",
       "      <td>B-KEY;</td>\n",
       "    </tr>\n",
       "    <tr>\n",
       "      <th>1</th>\n",
       "      <td>112</td>\n",
       "      <td>von</td>\n",
       "      <td>O;</td>\n",
       "    </tr>\n",
       "    <tr>\n",
       "      <th>2</th>\n",
       "      <td>112</td>\n",
       "      <td>Mehrfamilienhäusern</td>\n",
       "      <td>O;</td>\n",
       "    </tr>\n",
       "    <tr>\n",
       "      <th>3</th>\n",
       "      <td>112,\",\",O;</td>\n",
       "      <td>NaN</td>\n",
       "      <td>NaN</td>\n",
       "    </tr>\n",
       "    <tr>\n",
       "      <th>4</th>\n",
       "      <td>112</td>\n",
       "      <td>Einkaufszentren</td>\n",
       "      <td>O;</td>\n",
       "    </tr>\n",
       "  </tbody>\n",
       "</table>\n",
       "</div>"
      ],
      "text/plain": [
       "   Sentence #                 Word    Tag;\n",
       "0         112    Gebäudevermessung  B-KEY;\n",
       "1         112                  von      O;\n",
       "2         112  Mehrfamilienhäusern      O;\n",
       "3  112,\",\",O;                  NaN     NaN\n",
       "4         112      Einkaufszentren      O;"
      ]
     },
     "execution_count": 62,
     "metadata": {},
     "output_type": "execute_result"
    }
   ],
   "source": [
    "data = pd.read_csv('keywords_dataset.csv')\n",
    "data.head()"
   ]
  },
  {
   "cell_type": "markdown",
   "metadata": {},
   "source": [
    "Some lines like the 3rd one (_112,\",\",O;_) weren't processed correctly. Therefore, we need to fix such items in the source data first."
   ]
  },
  {
   "cell_type": "code",
   "execution_count": 135,
   "metadata": {},
   "outputs": [],
   "source": [
    "with open('keywords_dataset.csv', 'r', encoding='utf8') as fin:\n",
    "    source_data = fin.read()\n",
    "    \n",
    "fixed_data = re.sub(r'\"(\\d+),\"\"([^\"]+)\"\",(\\w+)\";', r'\\1,\"\\2\",\\3;', source_data)\n",
    "fixed_data = re.sub(r';', r'', fixed_data) # there is no need semilocon in labels\n",
    "fixed_data = re.sub(r'\\u200b', '', fixed_data) # clean up some trash symbols\n",
    "fixed_data = re.sub(r'\\x97', '', fixed_data)\n",
    "fixed_data = re.sub(r'•', '', fixed_data)\n",
    "spl_data = fixed_data.split('\\n')\n",
    "\n",
    "with open('keywords_dataset_fixed.csv', 'w', encoding='utf8') as fout:\n",
    "    for line in spl_data:\n",
    "        fout.write(line + '\\n')"
   ]
  },
  {
   "cell_type": "markdown",
   "metadata": {},
   "source": [
    "Now let's re-read the data in pandas and prepare it for model training"
   ]
  },
  {
   "cell_type": "code",
   "execution_count": 18,
   "metadata": {},
   "outputs": [
    {
     "data": {
      "text/html": [
       "<div>\n",
       "<style scoped>\n",
       "    .dataframe tbody tr th:only-of-type {\n",
       "        vertical-align: middle;\n",
       "    }\n",
       "\n",
       "    .dataframe tbody tr th {\n",
       "        vertical-align: top;\n",
       "    }\n",
       "\n",
       "    .dataframe thead th {\n",
       "        text-align: right;\n",
       "    }\n",
       "</style>\n",
       "<table border=\"1\" class=\"dataframe\">\n",
       "  <thead>\n",
       "    <tr style=\"text-align: right;\">\n",
       "      <th></th>\n",
       "      <th>Sentence #</th>\n",
       "      <th>Word</th>\n",
       "      <th>Tag</th>\n",
       "    </tr>\n",
       "  </thead>\n",
       "  <tbody>\n",
       "    <tr>\n",
       "      <th>0</th>\n",
       "      <td>112</td>\n",
       "      <td>Gebäudevermessung</td>\n",
       "      <td>B-KEY</td>\n",
       "    </tr>\n",
       "    <tr>\n",
       "      <th>1</th>\n",
       "      <td>112</td>\n",
       "      <td>von</td>\n",
       "      <td>O</td>\n",
       "    </tr>\n",
       "    <tr>\n",
       "      <th>2</th>\n",
       "      <td>112</td>\n",
       "      <td>Mehrfamilienhäusern</td>\n",
       "      <td>O</td>\n",
       "    </tr>\n",
       "    <tr>\n",
       "      <th>3</th>\n",
       "      <td>112</td>\n",
       "      <td>,</td>\n",
       "      <td>O</td>\n",
       "    </tr>\n",
       "    <tr>\n",
       "      <th>4</th>\n",
       "      <td>112</td>\n",
       "      <td>Einkaufszentren</td>\n",
       "      <td>O</td>\n",
       "    </tr>\n",
       "  </tbody>\n",
       "</table>\n",
       "</div>"
      ],
      "text/plain": [
       "  Sentence #                 Word    Tag\n",
       "0        112    Gebäudevermessung  B-KEY\n",
       "1        112                  von      O\n",
       "2        112  Mehrfamilienhäusern      O\n",
       "3        112                    ,      O\n",
       "4        112      Einkaufszentren      O"
      ]
     },
     "execution_count": 18,
     "metadata": {},
     "output_type": "execute_result"
    }
   ],
   "source": [
    "data = pd.read_csv('keywords_dataset_fixed.csv')\n",
    "data['Sentence #'] = data['Sentence #'].astype('object')\n",
    "data.head()"
   ]
  },
  {
   "cell_type": "code",
   "execution_count": 19,
   "metadata": {},
   "outputs": [
    {
     "data": {
      "text/html": [
       "<div>\n",
       "<style scoped>\n",
       "    .dataframe tbody tr th:only-of-type {\n",
       "        vertical-align: middle;\n",
       "    }\n",
       "\n",
       "    .dataframe tbody tr th {\n",
       "        vertical-align: top;\n",
       "    }\n",
       "\n",
       "    .dataframe thead th {\n",
       "        text-align: right;\n",
       "    }\n",
       "</style>\n",
       "<table border=\"1\" class=\"dataframe\">\n",
       "  <thead>\n",
       "    <tr style=\"text-align: right;\">\n",
       "      <th></th>\n",
       "      <th>Word</th>\n",
       "      <th>Tag</th>\n",
       "    </tr>\n",
       "    <tr>\n",
       "      <th>Sentence #</th>\n",
       "      <th></th>\n",
       "      <th></th>\n",
       "    </tr>\n",
       "  </thead>\n",
       "  <tbody>\n",
       "    <tr>\n",
       "      <th>0</th>\n",
       "      <td>[Die, Referenzen, der, 1000hands, AG, -, Wir, ...</td>\n",
       "      <td>[O, O, O, O, O, O, O, O, O, O, O, B-KEY, B-KEY...</td>\n",
       "    </tr>\n",
       "    <tr>\n",
       "      <th>1</th>\n",
       "      <td>[Die, folgenden, Referenzen, sind, ein, kleine...</td>\n",
       "      <td>[O, O, O, O, O, O, O, O, O, O, O, O, O, O, O]</td>\n",
       "    </tr>\n",
       "    <tr>\n",
       "      <th>2</th>\n",
       "      <td>[Sie, stellen, einen, Querschnitt, unseres, Le...</td>\n",
       "      <td>[O, O, O, O, O, O, O, O]</td>\n",
       "    </tr>\n",
       "    <tr>\n",
       "      <th>3</th>\n",
       "      <td>[Deutsche, Bank, Aufmaß, von, 1,6, Mio, qm, BG...</td>\n",
       "      <td>[O, O, O, O, O, O, O, O, O]</td>\n",
       "    </tr>\n",
       "    <tr>\n",
       "      <th>4</th>\n",
       "      <td>[CAD-Bearbeitung, in, AutoCAD, .]</td>\n",
       "      <td>[O, O, O, O]</td>\n",
       "    </tr>\n",
       "  </tbody>\n",
       "</table>\n",
       "</div>"
      ],
      "text/plain": [
       "                                                         Word  \\\n",
       "Sentence #                                                      \n",
       "0           [Die, Referenzen, der, 1000hands, AG, -, Wir, ...   \n",
       "1           [Die, folgenden, Referenzen, sind, ein, kleine...   \n",
       "2           [Sie, stellen, einen, Querschnitt, unseres, Le...   \n",
       "3           [Deutsche, Bank, Aufmaß, von, 1,6, Mio, qm, BG...   \n",
       "4                           [CAD-Bearbeitung, in, AutoCAD, .]   \n",
       "\n",
       "                                                          Tag  \n",
       "Sentence #                                                     \n",
       "0           [O, O, O, O, O, O, O, O, O, O, O, B-KEY, B-KEY...  \n",
       "1               [O, O, O, O, O, O, O, O, O, O, O, O, O, O, O]  \n",
       "2                                    [O, O, O, O, O, O, O, O]  \n",
       "3                                 [O, O, O, O, O, O, O, O, O]  \n",
       "4                                                [O, O, O, O]  "
      ]
     },
     "execution_count": 19,
     "metadata": {},
     "output_type": "execute_result"
    }
   ],
   "source": [
    "new_df = data.groupby(by='Sentence #').agg(list)\n",
    "df = new_df[new_df['Word'].str.len() < 50] # filter out too long sequences as BERT can process only 512 subtokens\n",
    "df.head()"
   ]
  },
  {
   "cell_type": "code",
   "execution_count": 20,
   "metadata": {},
   "outputs": [],
   "source": [
    "train, dev, test = np.split(df.sample(frac=1), [int(.8*len(df)), int(.9*len(df))]) # train_dev_test split = 0.8, 0.1, 0.1"
   ]
  },
  {
   "cell_type": "code",
   "execution_count": 22,
   "metadata": {},
   "outputs": [],
   "source": [
    "with open('kws_data/train.txt', 'w', encoding = 'utf8') as fout:\n",
    "    for i, row in train.iterrows():\n",
    "        for token, label in zip(row['Word'], row['Tag']):\n",
    "            fout.write(str(token).strip() + '\\t' + str(label).strip() + '\\n')\n",
    "        fout.write('\\n')"
   ]
  },
  {
   "cell_type": "code",
   "execution_count": 23,
   "metadata": {},
   "outputs": [],
   "source": [
    "with open('kws_data/valid.txt', 'w', encoding = 'utf8') as fout:\n",
    "    for i, row in dev.iterrows():\n",
    "        for token, label in zip(row['Word'], row['Tag']):\n",
    "            fout.write(str(token).strip() + '\\t' + str(label).strip() + '\\n')\n",
    "        fout.write('\\n')"
   ]
  },
  {
   "cell_type": "code",
   "execution_count": 24,
   "metadata": {},
   "outputs": [],
   "source": [
    "with open('kws_data/test.txt', 'w', encoding = 'utf8') as fout:\n",
    "    for i, row in test.iterrows():\n",
    "        for token, label in zip(row['Word'], row['Tag']):\n",
    "            fout.write(str(token).strip() + '\\t' + str(label).strip() + '\\n')\n",
    "        fout.write('\\n')"
   ]
  }
 ],
 "metadata": {
  "kernelspec": {
   "display_name": "Python 3",
   "language": "python",
   "name": "python3"
  },
  "language_info": {
   "codemirror_mode": {
    "name": "ipython",
    "version": 3
   },
   "file_extension": ".py",
   "mimetype": "text/x-python",
   "name": "python",
   "nbconvert_exporter": "python",
   "pygments_lexer": "ipython3",
   "version": "3.6.9"
  }
 },
 "nbformat": 4,
 "nbformat_minor": 4
}
